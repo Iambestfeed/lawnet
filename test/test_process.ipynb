{
 "cells": [
  {
   "cell_type": "code",
   "execution_count": 1,
   "metadata": {},
   "outputs": [
    {
     "name": "stdout",
     "output_type": "stream",
     "text": [
      "/home/nhan-softzone/crawl_law_airflow\n"
     ]
    }
   ],
   "source": [
    "%cd /home/nhan-softzone/crawl_law_airflow"
   ]
  },
  {
   "cell_type": "code",
   "execution_count": 23,
   "metadata": {},
   "outputs": [],
   "source": [
    "import sys\n",
    "import os\n",
    "from pathlib import Path\n",
    "\n",
    "# Import các module cần thiết\n",
    "from core.models.legal_document import LegalDocument  # LegalDocument model\n",
    "from core.processers.legal_processor import LawDocumentProcessor  # Processor để kiểm tra\n",
    "from core.database import DatabaseManager\n",
    "\n",
    "class LawDocumentProcessorTest(LawDocumentProcessor):\n",
    "    def __init__(self, doc: LegalDocument):\n",
    "        self.doc = doc\n",
    "        self.db = DatabaseManager()  # Sử dụng DatabaseManager thay vì SessionLocal\n",
    "\n",
    "    def process(self):\n",
    "        \"\"\"Quy trình xử lý kiểm tra\"\"\"\n",
    "        \n",
    "        print(f\"=== Đang xử lý document: {self.doc.id} ===\")\n",
    "            \n",
    "        # Bước 1: Parse cấu trúc HTML\n",
    "        parsed_structure = self._parse_html_structure(self.doc.content_html)\n",
    "        #print(\"\\n--- Cấu trúc HTML đã parse:\")\n",
    "        #self._print_structure(parsed_structure)\n",
    "            \n",
    "        # Bước 2: Chuẩn hóa cấu trúc\n",
    "        normalized = self._normalize_structure(parsed_structure)\n",
    "        '''print(\"\\n--- Cấu trúc đã chuẩn hóa:\")\n",
    "        self._print_structure(normalized)'''\n",
    "            \n",
    "        # Bước 3: Trích xuất các Điều (Articles)\n",
    "        articles = self._extract_articles(normalized)\n",
    "        '''print(\"\\n--- Các Điều (Articles) đã trích xuất:\")\n",
    "        for article in articles:\n",
    "            print(f\"Article ID: {article['article_id']}\")\n",
    "            print(f\"Article Number: {article['number']}\")\n",
    "            print(f\"Full Text: {article['full_text']}\")\n",
    "            print(f\"Metadata: {article['metadata']}\")\n",
    "            print(\"-\" * 30)'''\n",
    "        \n",
    "        self.db.close()  # Đảm bảo đóng kết nối\n",
    "        return articles\n",
    "    \n",
    "    def _print_structure(self, structure, level=0):\n",
    "        \"\"\"Hàm hỗ trợ in cấu trúc phân cấp dưới dạng Markdown\"\"\"\n",
    "        for node in structure:\n",
    "            indent = \"  \" * level  # Two spaces per level for indentation\n",
    "            line = f\"{indent}- **{node['type']}**\"  # Make type bold\n",
    "            if node.get('number'):\n",
    "                line += f\" {node['number']}\"\n",
    "            line += f\": {node['content']}\"\n",
    "            print(line)\n",
    "            if \"children\" in node and node[\"children\"]:\n",
    "                self._print_structure(node[\"children\"], level + 1)"
   ]
  },
  {
   "cell_type": "code",
   "execution_count": 24,
   "metadata": {},
   "outputs": [],
   "source": [
    "def test_document_parser(document_number: str):\n",
    "    with DatabaseManager() as db:\n",
    "        document = db.session.query(LegalDocument).filter(\n",
    "            LegalDocument.document_number == document_number,\n",
    "            LegalDocument.content_html.isnot(None)\n",
    "        ).first()\n",
    "\n",
    "        if not document:\n",
    "            print(f\"No document found with document_number: {document_number}\")\n",
    "            return\n",
    "\n",
    "        processor = LawDocumentProcessorTest(document)\n",
    "        processor.process()\n",
    "\n",
    "# Example usage:\n",
    "# test_document_parser(\"YOUR_DOCUMENT_NUMBER_HERE\")"
   ]
  },
  {
   "cell_type": "code",
   "execution_count": 32,
   "metadata": {},
   "outputs": [
    {
     "name": "stdout",
     "output_type": "stream",
     "text": [
      "=== Đang xử lý document: 27960 ===\n"
     ]
    }
   ],
   "source": [
    "with DatabaseManager() as db:\n",
    "    document = db.session.query(LegalDocument).filter(\n",
    "        LegalDocument.document_number == \"2898/QĐ-UBND\",\n",
    "        LegalDocument.content_html.isnot(None)\n",
    "    ).first()\n",
    "\n",
    "    processor = LawDocumentProcessorTest(document)\n",
    "    output = processor.process()"
   ]
  },
  {
   "cell_type": "code",
   "execution_count": null,
   "metadata": {},
   "outputs": [],
   "source": []
  }
 ],
 "metadata": {
  "kernelspec": {
   "display_name": "lawnet",
   "language": "python",
   "name": "python3"
  },
  "language_info": {
   "codemirror_mode": {
    "name": "ipython",
    "version": 3
   },
   "file_extension": ".py",
   "mimetype": "text/x-python",
   "name": "python",
   "nbconvert_exporter": "python",
   "pygments_lexer": "ipython3",
   "version": "3.10.13"
  }
 },
 "nbformat": 4,
 "nbformat_minor": 2
}
